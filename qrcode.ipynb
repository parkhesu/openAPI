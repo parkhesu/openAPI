{
 "cells": [
  {
   "cell_type": "code",
   "execution_count": null,
   "id": "34bfc2e1-6560-4e1e-aaab-395618ce542f",
   "metadata": {},
   "outputs": [],
   "source": [
    "pip install qrcode[pil]\n"
   ]
  },
  {
   "cell_type": "code",
   "execution_count": 4,
   "id": "117a319c",
   "metadata": {},
   "outputs": [
    {
     "name": "stdout",
     "output_type": "stream",
     "text": [
      "QR 코드가 github_qr.png 로 저장되었습니다.\n"
     ]
    }
   ],
   "source": [
    "import qrcode\n",
    "\n",
    "github_url = \"https://github.com/parkhesu/openAPI.git\"\n",
    "\n",
    "img = qrcode.make(github_url)\n",
    "img.save(\"github_qr.png\")\n",
    "\n",
    "print(\"QR 코드가 github_qr.png 로 저장되었습니다.\")\n"
   ]
  },
  {
   "cell_type": "code",
   "execution_count": null,
   "id": "a4e1f650-22a1-4e00-bc9a-eabb69f5484b",
   "metadata": {},
   "outputs": [],
   "source": []
  }
 ],
 "metadata": {
  "kernelspec": {
   "display_name": "Python 3 (ipykernel)",
   "language": "python",
   "name": "python3"
  },
  "language_info": {
   "codemirror_mode": {
    "name": "ipython",
    "version": 3
   },
   "file_extension": ".py",
   "mimetype": "text/x-python",
   "name": "python",
   "nbconvert_exporter": "python",
   "pygments_lexer": "ipython3",
   "version": "3.11.7"
  }
 },
 "nbformat": 4,
 "nbformat_minor": 5
}
