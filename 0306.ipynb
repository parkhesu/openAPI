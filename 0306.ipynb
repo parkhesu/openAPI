{
 "cells": [
  {
   "cell_type": "code",
   "execution_count": 1,
   "id": "08398a32-0963-436e-95f7-7da4a537c728",
   "metadata": {},
   "outputs": [
    {
     "name": "stdout",
     "output_type": "stream",
     "text": [
      "Collecting pytesseract\n",
      "  Downloading pytesseract-0.3.13-py3-none-any.whl.metadata (11 kB)\n",
      "Requirement already satisfied: packaging>=21.3 in c:\\users\\user6\\anaconda3\\lib\\site-packages (from pytesseract) (23.1)\n",
      "Requirement already satisfied: Pillow>=8.0.0 in c:\\users\\user6\\anaconda3\\lib\\site-packages (from pytesseract) (10.2.0)\n",
      "Downloading pytesseract-0.3.13-py3-none-any.whl (14 kB)\n",
      "Installing collected packages: pytesseract\n",
      "Successfully installed pytesseract-0.3.13\n"
     ]
    },
    {
     "name": "stderr",
     "output_type": "stream",
     "text": [
      "\n",
      "[notice] A new release of pip is available: 24.2 -> 25.0.1\n",
      "[notice] To update, run: python.exe -m pip install --upgrade pip\n"
     ]
    }
   ],
   "source": [
    "!pip install pytesseract"
   ]
  },
  {
   "cell_type": "code",
   "execution_count": null,
   "id": "659122ab-5851-4da1-b485-08097984f2c3",
   "metadata": {},
   "outputs": [],
   "source": [
    "# OCR프로그램 설치\n",
    "\n",
    "## https://github.com/UB-Mannheim/tesseract/wiki"
   ]
  },
  {
   "cell_type": "code",
   "execution_count": 4,
   "id": "6bd6e814-6bed-41c4-8220-d6b6705d74bc",
   "metadata": {},
   "outputs": [
    {
     "name": "stdout",
     "output_type": "stream",
     "text": [
      "라면 가격도 오른다……농심\n",
      "신라면 950-+1천원(종합)\n",
      "[속보] 를 \"첨단산업 국민펀드 조성안 마련.…국민 .…\n",
      "\n",
      "권영세 *배우자 상속세 전면폐지.…유산취득세로 .…\n",
      "\n",
      "펄수의료 사망사고 '반의사불별' 검토.…150일내 .…\n",
      "\n"
     ]
    }
   ],
   "source": [
    "from PIL import Image\n",
    "import pytesseract\n",
    "\n",
    "image_path = r\"한글이미지.png\"\n",
    "\n",
    "pytesseract.pytesseract.tesseract_cmd = r'C:\\Program Files\\Tesseract-OCR\\tesseract.exe'\n",
    "text = pytesseract.image_to_string(Image.open(image_path), lang=\"kor\")\n",
    "\n",
    "print(text)"
   ]
  },
  {
   "cell_type": "code",
   "execution_count": 16,
   "id": "ed69328d-232e-4bf1-8940-2ddadf793791",
   "metadata": {},
   "outputs": [
    {
     "name": "stdout",
     "output_type": "stream",
     "text": [
      "이커\n",
      "\n",
      "0)            언론사의 주요 콘텐즈를 받아보\n",
      "세요.\n",
      "갈수록 거세지는 트럼프 리스크 . 촛 공장 둔 두산밥켓 안도 [줌즐리                     비68&? 마타타\n",
      "농심, 신라면 950원-+1000원으로 인상. 새우강도 100원 올린다\n",
      "'6년만 대규모 경품\" . 현대백화점, 1억 상당 골드바 경품 행사\n",
      "\"아이브 공연도 공짜로 블 수 있나?\" ..15만 원 지원해 준다는데        “일본보다 저렴한데 한국에서도 ㆍ 길목마다 보인다 했더니\n",
      "2030 몰린다는 '이      피, 벌써 3500번째 매장 오픈\n",
      "\n",
      "권영세 \"선관위, 불공정 편파 막장드라마 ….스스로\n",
      "수사 받으라\"                                                              경쟁 본격화 [62 플러스]\n",
      "30분전                                10+                   2시간전\n",
      "오픈시 박사급 4\" 에이전트는 월 3000만원?[윤민                          ,      이이\n",
      "@000041 호           에이               !                      초, 멕시코 캐나다산 수입루에 관세 한 달 면\n",
      "어          때                                                        4시간전\n",
      "받은 이 남자                                가, 2개월 연속 2%대 상승 _.무 가격 80.2%\n",
      "\n",
      "가까위\"\n",
      "\n",
      "\"기아 타스만, 한판 붙자\" 614 '무쏘ㄷ/ 출격\n",
      "\n",
      "뽀\n",
      "\n",
      "30+\n",
      "\n",
      "제\n",
      "\n"
     ]
    }
   ],
   "source": [
    "from PIL import Image\n",
    "import pytesseract\n",
    "\n",
    "image_path = r\"한글이미지3.png\"\n",
    "\n",
    "pytesseract.pytesseract.tesseract_cmd = r'C:\\Program Files\\Tesseract-OCR\\tesseract.exe'\n",
    "text = pytesseract.image_to_string(Image.open(image_path), lang=\"kor\")\n",
    "\n",
    "print(text)\n",
    "\n",
    "# 파일에 저장 하는 법\n",
    "with open(r\"한글변환.txt\", \"w\", encoding=\"utf-8\") as file:\n",
    "    file.write(text)"
   ]
  },
  {
   "cell_type": "code",
   "execution_count": null,
   "id": "361d64b9-ee04-47f3-8679-c522884a6cbe",
   "metadata": {},
   "outputs": [],
   "source": []
  }
 ],
 "metadata": {
  "kernelspec": {
   "display_name": "Python 3 (ipykernel)",
   "language": "python",
   "name": "python3"
  },
  "language_info": {
   "codemirror_mode": {
    "name": "ipython",
    "version": 3
   },
   "file_extension": ".py",
   "mimetype": "text/x-python",
   "name": "python",
   "nbconvert_exporter": "python",
   "pygments_lexer": "ipython3",
   "version": "3.11.7"
  }
 },
 "nbformat": 4,
 "nbformat_minor": 5
}
