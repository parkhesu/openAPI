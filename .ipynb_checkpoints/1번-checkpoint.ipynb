{
 "cells": [
  {
   "cell_type": "code",
   "execution_count": 1,
   "id": "002bdf30-5f17-41e5-8a2c-518560355d3b",
   "metadata": {},
   "outputs": [
    {
     "name": "stdout",
     "output_type": "stream",
     "text": [
      "Requirement already satisfied: folium in c:\\users\\user6\\anaconda3\\lib\\site-packages (0.17.0)\n",
      "Requirement already satisfied: branca>=0.6.0 in c:\\users\\user6\\anaconda3\\lib\\site-packages (from folium) (0.8.0)\n",
      "Requirement already satisfied: jinja2>=2.9 in c:\\users\\user6\\anaconda3\\lib\\site-packages (from folium) (3.1.3)\n",
      "Requirement already satisfied: numpy in c:\\users\\user6\\anaconda3\\lib\\site-packages (from folium) (1.26.4)\n",
      "Requirement already satisfied: requests in c:\\users\\user6\\anaconda3\\lib\\site-packages (from folium) (2.31.0)\n",
      "Requirement already satisfied: xyzservices in c:\\users\\user6\\anaconda3\\lib\\site-packages (from folium) (2022.9.0)\n",
      "Requirement already satisfied: MarkupSafe>=2.0 in c:\\users\\user6\\anaconda3\\lib\\site-packages (from jinja2>=2.9->folium) (2.1.3)\n",
      "Requirement already satisfied: charset-normalizer<4,>=2 in c:\\users\\user6\\anaconda3\\lib\\site-packages (from requests->folium) (2.0.4)\n",
      "Requirement already satisfied: idna<4,>=2.5 in c:\\users\\user6\\anaconda3\\lib\\site-packages (from requests->folium) (3.4)\n",
      "Requirement already satisfied: urllib3<3,>=1.21.1 in c:\\users\\user6\\anaconda3\\lib\\site-packages (from requests->folium) (2.0.7)\n",
      "Requirement already satisfied: certifi>=2017.4.17 in c:\\users\\user6\\anaconda3\\lib\\site-packages (from requests->folium) (2024.2.2)\n"
     ]
    },
    {
     "name": "stderr",
     "output_type": "stream",
     "text": [
      "\n",
      "[notice] A new release of pip is available: 24.2 -> 25.0.1\n",
      "[notice] To update, run: python.exe -m pip install --upgrade pip\n"
     ]
    }
   ],
   "source": [
    "!pip install folium"
   ]
  },
  {
   "cell_type": "code",
   "execution_count": 23,
   "id": "f049cd31-7141-4dc2-8865-0b4b9c46c7be",
   "metadata": {},
   "outputs": [
    {
     "name": "stdout",
     "output_type": "stream",
     "text": [
      "Requirement already satisfied: openpyxl in c:\\users\\user6\\anaconda3\\lib\\site-packages (3.1.5)\n",
      "Requirement already satisfied: et-xmlfile in c:\\users\\user6\\anaconda3\\lib\\site-packages (from openpyxl) (1.1.0)\n"
     ]
    },
    {
     "name": "stderr",
     "output_type": "stream",
     "text": [
      "\n",
      "[notice] A new release of pip is available: 24.2 -> 25.0.1\n",
      "[notice] To update, run: python.exe -m pip install --upgrade pip\n"
     ]
    }
   ],
   "source": [
    "!pip install openpyxl"
   ]
  },
  {
   "cell_type": "code",
   "execution_count": null,
   "id": "a045a5c8-5361-48a6-afee-1705f0c92732",
   "metadata": {},
   "outputs": [
    {
     "ename": "",
     "evalue": "",
     "output_type": "error",
     "traceback": [
      "\u001b[1;31m'.venv (Python 3.10.10)'(으)로 셀을 실행하려면 ipykernel 패키지가 필요합니다.\n",
      "\u001b[1;31m'ipykernel'을(를) Python 환경에 설치합니다. \n",
      "\u001b[1;31m명령: 'c:/Users/user6/Desktop/openapi/openAPI/.venv/Scripts/python.exe -m pip install ipykernel -U --force-reinstall'"
     ]
    }
   ],
   "source": [
    "import pandas as pd\n",
    "\n",
    "filePath = r'고등교육기관 하반기 주소록(2024).xlsx'\n",
    "df_from_excel = pd.read_excel(filePath,engine='openpyxl')\n",
    "\n",
    "df_from_excel.columns = df_from_excel.loc[4].tolist()\n",
    "\n",
    "df_from_excel = df_from_excel.drop(index=list(range(0,5)))\n",
    "\n",
    "print(df_from_excel.head())\n",
    "\n",
    "print(df_from_excel['학교명'].values)\n",
    "\n",
    "print(df_from_excel['주소'].values)\n"
   ]
  },
  {
   "cell_type": "markdown",
   "id": "dcc6f0f0-b663-475d-92bd-1b5952a8811e",
   "metadata": {},
   "source": [
    "# 오픈 API를 이용해 주소를 좌표로 변환하는 코드 만들기\n",
    "# Geocoder API 2.0 레퍼런스 사이트 접속\n"
   ]
  },
  {
   "cell_type": "code",
   "execution_count": 11,
   "id": "56b1baeb-12ec-433d-8c62-de22a8af242a",
   "metadata": {},
   "outputs": [
    {
     "name": "stdout",
     "output_type": "stream",
     "text": [
      "x값: 126.735049523\n",
      "y값: 37.339670416\n"
     ]
    }
   ],
   "source": [
    "import requests\n",
    "\n",
    "url = 'http://api.vworld.kr/req/address?'\n",
    "params = 'service=address&request=getcoord&version=2.0&crs=epsg:4326&refine=true&simple=false&format=json&type='\n",
    "road_type = 'ROAD'   #도로명주소\n",
    "road_type2 = 'PARCEL' #지번주소\n",
    "address = '&address='\n",
    "keys = '&key='\n",
    "primary_key = '93BA8286-6A7F-322E-BD86-D65EC4B1A795'\n",
    "\n",
    "def request_geo(road):\n",
    "    page = requests.get(url+params+road_type+address+road+keys+primary_key)\n",
    "    json_data = page.json()\n",
    "    if json_data['response']['status'] == 'OK':\n",
    "        x = json_data['response']['result']['point']['x']\n",
    "        y = json_data['response']['result']['point']['y']\n",
    "        return x,y\n",
    "    else:\n",
    "        x = 0\n",
    "        y = 0\n",
    "        return x,y\n",
    "\n",
    "x,y = request_geo(\"경기도 시흥시 산기대학로 237 (정왕동, 한국산업기술대학교)\")\n",
    "\n",
    "print(f'x값: {x}')\n",
    "print(f'y값: {y}')"
   ]
  },
  {
   "cell_type": "code",
   "execution_count": null,
   "id": "3f747dfe-57a9-4753-8270-c29515901448",
   "metadata": {},
   "outputs": [
    {
     "ename": "",
     "evalue": "",
     "output_type": "error",
     "traceback": [
      "\u001b[1;31m'.venv (Python 3.10.10)'(으)로 셀을 실행하려면 ipykernel 패키지가 필요합니다.\n",
      "\u001b[1;31m'ipykernel'을(를) Python 환경에 설치합니다. \n",
      "\u001b[1;31m명령: 'c:/Users/user6/Desktop/openapi/openAPI/.venv/Scripts/python.exe -m pip install ipykernel -U --force-reinstall'"
     ]
    }
   ],
   "source": [
    "import pandas as pd\n",
    "import requests\n",
    "from openpyxl import load_workbook\n",
    "from openpyxl import Workbook\n",
    "import re\n",
    "\n",
    "\n",
    "filePath = r'고등교육기관 하반기 주소록(2024).xlsx'\n",
    "df_from_excel = pd.read_excel(filePath,engine='openpyxl')\n",
    "df_from_excel.columns = df_from_excel.loc[4].tolist()\n",
    "df_from_excel = df_from_excel.drop(index=list(range(0,5)))\n",
    "\n",
    "\n",
    "url = 'http://api.vworld.kr/req/address?'\n",
    "params = 'service=address&request=getcoord&version=2.0&crs=epsg:4326&refine=true&simple=false&format=json&type='\n",
    "road_type = 'ROAD'   #도로명주소\n",
    "road_type2 = 'PARCEL' #지번주소\n",
    "address = '&address='\n",
    "keys = '&key='\n",
    "primary_key = '93BA8286-6A7F-322E-BD86-D65EC4B1A795'\n",
    "\n",
    "def request_geo(road):\n",
    "    page = requests.get(url+params+road_type+address+road+keys+primary_key)\n",
    "    json_data = page.json()\n",
    "    if json_data['response']['status'] == 'OK':\n",
    "        x = json_data['response']['result']['point']['x']\n",
    "        y = json_data['response']['result']['point']['y']\n",
    "        return x,y\n",
    "    else:\n",
    "        x = 0\n",
    "        y = 0\n",
    "        return x,y\n",
    "\n",
    "\n",
    "try:\n",
    "    wb = load_workbook(r\"학교주소좌표.xlsx\", data_only=True)\n",
    "    sheet  = wb.active\n",
    "except:\n",
    "    wb = Workbook()\n",
    "    sheet = wb.active\n",
    "\n",
    "university_list = df_from_excel['학교명'].to_list()\n",
    "address_list = df_from_excel['주소'].to_list()\n",
    "\n",
    "for num,value in enumerate(address_list):\n",
    "    addr = re.sub(r'\\([^)]*\\)', '', value)  # 괄호 안의 내용만 삭제\n",
    "    print(addr)\n",
    "    x,y = request_geo(addr)\n",
    "    sheet.append([university_list[num],addr,x,y])\n",
    "\n",
    "wb.save(r\"학교주소좌표.xlsx\")"
   ]
  },
  {
   "cell_type": "code",
   "execution_count": 26,
   "id": "bf4567da-4349-4065-ba80-9a5f0d903a7a",
   "metadata": {},
   "outputs": [],
   "source": [
    "import folium\n",
    "\n",
    "map = folium.Map(location=[37,127],zoom_start=7)\n",
    "\n",
    "marker = folium.Marker([37.341435483, 126.733026596],\n",
    "                       popup='한국공학대학교',\n",
    "                       icon = folium.Icon(color='blue'))\n",
    "marker.add_to(map)\n",
    "\n",
    "map.save(r'uni_map1.html')"
   ]
  },
  {
   "cell_type": "code",
   "execution_count": 27,
   "id": "27167789-ecb3-4ce5-9e83-eb3d498b3ef8",
   "metadata": {},
   "outputs": [],
   "source": [
    "import folium\n",
    "\n",
    "map = folium.Map(location=[37,127],zoom_start=7)\n",
    "\n",
    "marker = folium.Marker([35.183778757, 126.880647243],\n",
    "                       popup='한국폴리텍V대학 광주캠퍼스',\n",
    "                       icon = folium.Icon(color='blue'))\n",
    "marker.add_to(map)\n",
    "\n",
    "map.save(r'uni_map2.html')"
   ]
  },
  {
   "cell_type": "code",
   "execution_count": 28,
   "id": "5b4b72f3-e748-4561-8e1c-2c957f62763d",
   "metadata": {},
   "outputs": [],
   "source": [
    "import pandas as pd\n",
    "import folium\n",
    "\n",
    "filePath = r'학교주소좌표.xlsx'\n",
    "df_from_excel = pd.read_excel(filePath,engine='openpyxl',header=None)\n",
    "\n",
    "df_from_excel.columns = ['학교이름','주소','x','y']\n",
    "\n",
    "name_list = df_from_excel['학교이름'].to_list()\n",
    "addr_list = df_from_excel['주소'].to_list()\n",
    "position_x_list = df_from_excel['x'].to_list()\n",
    "position_y_list = df_from_excel['y'].to_list()\n",
    "\n",
    "map = folium.Map(location=[37,127],zoom_start=7)\n",
    "\n",
    "for i in range(len(name_list)):\n",
    "    if position_x_list[i] != 0:\n",
    "        marker = folium.Marker([position_y_list[i],position_x_list[i]],\n",
    "                            popup=name_list[i], \n",
    "                            icon = folium.Icon(color='blue'))\n",
    "        marker.add_to(map) \n",
    "\n",
    "map.save(r'uni_map3.html')"
   ]
  },
  {
   "cell_type": "code",
   "execution_count": null,
   "id": "c76f5127-9642-4755-8144-8c58e37ebd3c",
   "metadata": {},
   "outputs": [],
   "source": []
  }
 ],
 "metadata": {
  "kernelspec": {
   "display_name": ".venv",
   "language": "python",
   "name": "python3"
  },
  "language_info": {
   "codemirror_mode": {
    "name": "ipython",
    "version": 3
   },
   "file_extension": ".py",
   "mimetype": "text/x-python",
   "name": "python",
   "nbconvert_exporter": "python",
   "pygments_lexer": "ipython3",
   "version": "3.10.10"
  }
 },
 "nbformat": 4,
 "nbformat_minor": 5
}
